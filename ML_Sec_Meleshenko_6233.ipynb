{
  "cells": [
    {
      "cell_type": "markdown",
      "metadata": {
        "id": "NQ_cz58r1NPx"
      },
      "source": [
        "# Лабораторная работа №1"
      ]
    },
    {
      "cell_type": "markdown",
      "metadata": {
        "id": "DB3J8zPi1NP0"
      },
      "source": [
        "Лабораторная работа №1 по курсу \"Машинное обучение для задач информационной безопасности\". </br>\n",
        "Выполнил студент группы 6233-010402D Мелешенко Иван."
      ]
    },
    {
      "cell_type": "markdown",
      "metadata": {
        "id": "QJIBsUwI1NP1"
      },
      "source": [
        "## Задание на лабораторную работу"
      ]
    },
    {
      "cell_type": "markdown",
      "metadata": {
        "id": "gIuptHYx1NP1"
      },
      "source": [
        "1. Базовый контест (делают все хоть как-то)\n",
        "    - Обучить модель без каких-либо дополнительных условий, которая должна наилучшим образом отработать на тестовой выборке преподавателя с точки зрения F-меры\n",
        "2. Вторичные контесты\n",
        "    - Максимально логичным образом обучить качественную модель, использующую для работы только 10 признаков из всего исходного множества.\n",
        "    - Обучить модель, обеспечивающую вероятность пропуска бота на уровне не выше 0.03, и имеющую насколько возможно низкую вероятность ложного обнаружения.\n",
        "3. Углубленное аналитическое исследование по имеющимся данным\n",
        "    - Тем или иным способом выполнить сравнительное исследование значимости различных признаков применительно к произвольному фиксированному классификатору.\n",
        "    - Синтезировать 3 или более собственных признаков на основе имеющихся и показать, что они имеют какие-либо преимущества перед хотя бы какими либо из базовых признаков.\n",
        "    - Выбрать один базовый тип ML-модели на свой вкус (SVM, дерево решений, случайный лес, градиентный бустинг и пр.) и провести ROC-анализ в зависимости от её гиперпараметров.\n",
        "    - Провести исследование влияние параметров обучения на недо- и переобученность модели.\n",
        "\n"
      ]
    },
    {
      "cell_type": "markdown",
      "metadata": {
        "id": "Z7vSLxBj1NP2"
      },
      "source": [
        "## Подготовительный этап"
      ]
    },
    {
      "cell_type": "markdown",
      "metadata": {
        "id": "iuy4uTG-1NP3"
      },
      "source": [
        "### Подключение библиотек"
      ]
    },
    {
      "cell_type": "code",
      "execution_count": null,
      "metadata": {
        "colab": {
          "base_uri": "https://localhost:8080/"
        },
        "id": "jdMd-1a71NP3",
        "outputId": "70acdcfc-8bf5-451d-9bd0-13480a33f60e"
      },
      "outputs": [
        {
          "output_type": "stream",
          "name": "stdout",
          "text": [
            "Looking in indexes: https://pypi.org/simple, https://us-python.pkg.dev/colab-wheels/public/simple/\n",
            "Requirement already satisfied: scikit-optimize in /usr/local/lib/python3.7/dist-packages (0.9.0)\n",
            "Requirement already satisfied: numpy>=1.13.3 in /usr/local/lib/python3.7/dist-packages (from scikit-optimize) (1.21.6)\n",
            "Requirement already satisfied: scipy>=0.19.1 in /usr/local/lib/python3.7/dist-packages (from scikit-optimize) (1.7.3)\n",
            "Requirement already satisfied: joblib>=0.11 in /usr/local/lib/python3.7/dist-packages (from scikit-optimize) (1.2.0)\n",
            "Requirement already satisfied: scikit-learn>=0.20.0 in /usr/local/lib/python3.7/dist-packages (from scikit-optimize) (1.0.2)\n",
            "Requirement already satisfied: pyaml>=16.9 in /usr/local/lib/python3.7/dist-packages (from scikit-optimize) (21.10.1)\n",
            "Requirement already satisfied: PyYAML in /usr/local/lib/python3.7/dist-packages (from pyaml>=16.9->scikit-optimize) (6.0)\n",
            "Requirement already satisfied: threadpoolctl>=2.0.0 in /usr/local/lib/python3.7/dist-packages (from scikit-learn>=0.20.0->scikit-optimize) (3.1.0)\n"
          ]
        }
      ],
      "source": [
        "import matplotlib.pyplot as plt\n",
        "import numpy as np\n",
        "import pandas as pd\n",
        "import seaborn as sns\n",
        "import pickle\n",
        "from sklearn.neighbors import KNeighborsClassifier\n",
        "from sklearn.ensemble import RandomForestClassifier\n",
        "from sklearn.naive_bayes import GaussianNB\n",
        "from sklearn.model_selection import train_test_split, RandomizedSearchCV, StratifiedKFold, GridSearchCV\n",
        "from sklearn.metrics import plot_confusion_matrix, f1_score, recall_score, precision_score, classification_report\n",
        "!pip install scikit-optimize\n",
        "from skopt import BayesSearchCV\n",
        "import warnings\n",
        "warnings.filterwarnings('ignore')"
      ]
    },
    {
      "cell_type": "markdown",
      "metadata": {
        "id": "0IqDGq9c1NP5"
      },
      "source": [
        "### Подключение Google Drive"
      ]
    },
    {
      "cell_type": "code",
      "execution_count": null,
      "metadata": {
        "colab": {
          "base_uri": "https://localhost:8080/"
        },
        "id": "c0IK-SqO1NP6",
        "outputId": "2cd4feec-f8ff-42a5-a923-15a07cdfe746"
      },
      "outputs": [
        {
          "output_type": "stream",
          "name": "stdout",
          "text": [
            "Drive already mounted at /content/drive; to attempt to forcibly remount, call drive.mount(\"/content/drive\", force_remount=True).\n"
          ]
        }
      ],
      "source": [
        "from google.colab import drive\n",
        "drive.mount('/content/drive')"
      ]
    },
    {
      "cell_type": "markdown",
      "metadata": {
        "id": "2hHh_tqK1NP7"
      },
      "source": [
        "### Загрузка данных"
      ]
    },
    {
      "cell_type": "code",
      "execution_count": null,
      "metadata": {
        "id": "tLI73UAC1NP8"
      },
      "outputs": [],
      "source": [
        "data_features_train = pd.read_csv('/content/drive/MyDrive/datasets/features_train.csv')\n",
        "data_classes_train = pd.read_csv('/content/drive/MyDrive/datasets/classes_train.csv')"
      ]
    },
    {
      "cell_type": "markdown",
      "metadata": {
        "id": "Y-ujdPoz1NP9"
      },
      "source": [
        "### Визуальный осмотр данных"
      ]
    },
    {
      "cell_type": "code",
      "execution_count": null,
      "metadata": {
        "colab": {
          "base_uri": "https://localhost:8080/",
          "height": 333
        },
        "id": "EcH-Va1U1NP9",
        "outputId": "d6371f65-eb27-446c-f790-ded96706ee7f"
      },
      "outputs": [
        {
          "output_type": "execute_result",
          "data": {
            "text/plain": [
              "   statuses_count  followers_count  friends_count  favourites_count  \\\n",
              "0            5124             6641           3074             13768   \n",
              "1           10672             8465           1575              4561   \n",
              "2             704             3108            454              2400   \n",
              "3            6091           304528            526               599   \n",
              "4           12967            13693            204              1177   \n",
              "5            6636             7555            389               764   \n",
              "6             590              538            815               415   \n",
              "\n",
              "   listed_count  is_default_profile  is_profile_use_background_image  \\\n",
              "0           126                   0                                0   \n",
              "1           191                   0                                1   \n",
              "2            77                   0                                0   \n",
              "3          1515                   0                                1   \n",
              "4           452                   0                                1   \n",
              "5           412                   1                                1   \n",
              "6             5                   1                                1   \n",
              "\n",
              "   is_verified  user_age  tweets_freq  followers_growth_rate  \\\n",
              "0            1      2711     1.890077               2.449650   \n",
              "1            1      4424     2.412297               1.913427   \n",
              "2            0      1358     0.518409               2.288660   \n",
              "3            1      4214     1.445420              72.265781   \n",
              "4            1      3200     4.052187               4.279063   \n",
              "5            1      3372     1.967972               2.240510   \n",
              "6            1      3901     0.151243               0.137913   \n",
              "\n",
              "   friends_growth_rate  favourites_growth_rate  listed_growth_rate  \\\n",
              "0             1.133899                5.078569            0.046477   \n",
              "1             0.356013                1.030967            0.043174   \n",
              "2             0.334315                1.767305            0.056701   \n",
              "3             0.124822                0.142145            0.359516   \n",
              "4             0.063750                0.367812            0.141250   \n",
              "5             0.115362                0.226572            0.122183   \n",
              "6             0.208921                0.106383            0.001282   \n",
              "\n",
              "   followers_friends_ratio  screen_name_length  num_digits_in_screen_name  \\\n",
              "0                 2.160377                  12                          0   \n",
              "1                 5.374603                  11                          0   \n",
              "2                 6.845815                  12                          0   \n",
              "3               578.950570                  10                          0   \n",
              "4                67.122549                  13                          0   \n",
              "5                19.421594                   9                          0   \n",
              "6                 0.660123                  10                          0   \n",
              "\n",
              "   length_of_name  num_digits_in_name  description_length  \n",
              "0              14                   0                  73  \n",
              "1              23                   0                 142  \n",
              "2              18                   0                  90  \n",
              "3              11                   0                  51  \n",
              "4              14                   0                 106  \n",
              "5               7                   0                 155  \n",
              "6              11                   0                  11  "
            ],
            "text/html": [
              "\n",
              "  <div id=\"df-ab25d250-7d8f-40a8-8d02-5b8d3aecd2cc\">\n",
              "    <div class=\"colab-df-container\">\n",
              "      <div>\n",
              "<style scoped>\n",
              "    .dataframe tbody tr th:only-of-type {\n",
              "        vertical-align: middle;\n",
              "    }\n",
              "\n",
              "    .dataframe tbody tr th {\n",
              "        vertical-align: top;\n",
              "    }\n",
              "\n",
              "    .dataframe thead th {\n",
              "        text-align: right;\n",
              "    }\n",
              "</style>\n",
              "<table border=\"1\" class=\"dataframe\">\n",
              "  <thead>\n",
              "    <tr style=\"text-align: right;\">\n",
              "      <th></th>\n",
              "      <th>statuses_count</th>\n",
              "      <th>followers_count</th>\n",
              "      <th>friends_count</th>\n",
              "      <th>favourites_count</th>\n",
              "      <th>listed_count</th>\n",
              "      <th>is_default_profile</th>\n",
              "      <th>is_profile_use_background_image</th>\n",
              "      <th>is_verified</th>\n",
              "      <th>user_age</th>\n",
              "      <th>tweets_freq</th>\n",
              "      <th>followers_growth_rate</th>\n",
              "      <th>friends_growth_rate</th>\n",
              "      <th>favourites_growth_rate</th>\n",
              "      <th>listed_growth_rate</th>\n",
              "      <th>followers_friends_ratio</th>\n",
              "      <th>screen_name_length</th>\n",
              "      <th>num_digits_in_screen_name</th>\n",
              "      <th>length_of_name</th>\n",
              "      <th>num_digits_in_name</th>\n",
              "      <th>description_length</th>\n",
              "    </tr>\n",
              "  </thead>\n",
              "  <tbody>\n",
              "    <tr>\n",
              "      <th>0</th>\n",
              "      <td>5124</td>\n",
              "      <td>6641</td>\n",
              "      <td>3074</td>\n",
              "      <td>13768</td>\n",
              "      <td>126</td>\n",
              "      <td>0</td>\n",
              "      <td>0</td>\n",
              "      <td>1</td>\n",
              "      <td>2711</td>\n",
              "      <td>1.890077</td>\n",
              "      <td>2.449650</td>\n",
              "      <td>1.133899</td>\n",
              "      <td>5.078569</td>\n",
              "      <td>0.046477</td>\n",
              "      <td>2.160377</td>\n",
              "      <td>12</td>\n",
              "      <td>0</td>\n",
              "      <td>14</td>\n",
              "      <td>0</td>\n",
              "      <td>73</td>\n",
              "    </tr>\n",
              "    <tr>\n",
              "      <th>1</th>\n",
              "      <td>10672</td>\n",
              "      <td>8465</td>\n",
              "      <td>1575</td>\n",
              "      <td>4561</td>\n",
              "      <td>191</td>\n",
              "      <td>0</td>\n",
              "      <td>1</td>\n",
              "      <td>1</td>\n",
              "      <td>4424</td>\n",
              "      <td>2.412297</td>\n",
              "      <td>1.913427</td>\n",
              "      <td>0.356013</td>\n",
              "      <td>1.030967</td>\n",
              "      <td>0.043174</td>\n",
              "      <td>5.374603</td>\n",
              "      <td>11</td>\n",
              "      <td>0</td>\n",
              "      <td>23</td>\n",
              "      <td>0</td>\n",
              "      <td>142</td>\n",
              "    </tr>\n",
              "    <tr>\n",
              "      <th>2</th>\n",
              "      <td>704</td>\n",
              "      <td>3108</td>\n",
              "      <td>454</td>\n",
              "      <td>2400</td>\n",
              "      <td>77</td>\n",
              "      <td>0</td>\n",
              "      <td>0</td>\n",
              "      <td>0</td>\n",
              "      <td>1358</td>\n",
              "      <td>0.518409</td>\n",
              "      <td>2.288660</td>\n",
              "      <td>0.334315</td>\n",
              "      <td>1.767305</td>\n",
              "      <td>0.056701</td>\n",
              "      <td>6.845815</td>\n",
              "      <td>12</td>\n",
              "      <td>0</td>\n",
              "      <td>18</td>\n",
              "      <td>0</td>\n",
              "      <td>90</td>\n",
              "    </tr>\n",
              "    <tr>\n",
              "      <th>3</th>\n",
              "      <td>6091</td>\n",
              "      <td>304528</td>\n",
              "      <td>526</td>\n",
              "      <td>599</td>\n",
              "      <td>1515</td>\n",
              "      <td>0</td>\n",
              "      <td>1</td>\n",
              "      <td>1</td>\n",
              "      <td>4214</td>\n",
              "      <td>1.445420</td>\n",
              "      <td>72.265781</td>\n",
              "      <td>0.124822</td>\n",
              "      <td>0.142145</td>\n",
              "      <td>0.359516</td>\n",
              "      <td>578.950570</td>\n",
              "      <td>10</td>\n",
              "      <td>0</td>\n",
              "      <td>11</td>\n",
              "      <td>0</td>\n",
              "      <td>51</td>\n",
              "    </tr>\n",
              "    <tr>\n",
              "      <th>4</th>\n",
              "      <td>12967</td>\n",
              "      <td>13693</td>\n",
              "      <td>204</td>\n",
              "      <td>1177</td>\n",
              "      <td>452</td>\n",
              "      <td>0</td>\n",
              "      <td>1</td>\n",
              "      <td>1</td>\n",
              "      <td>3200</td>\n",
              "      <td>4.052187</td>\n",
              "      <td>4.279063</td>\n",
              "      <td>0.063750</td>\n",
              "      <td>0.367812</td>\n",
              "      <td>0.141250</td>\n",
              "      <td>67.122549</td>\n",
              "      <td>13</td>\n",
              "      <td>0</td>\n",
              "      <td>14</td>\n",
              "      <td>0</td>\n",
              "      <td>106</td>\n",
              "    </tr>\n",
              "    <tr>\n",
              "      <th>5</th>\n",
              "      <td>6636</td>\n",
              "      <td>7555</td>\n",
              "      <td>389</td>\n",
              "      <td>764</td>\n",
              "      <td>412</td>\n",
              "      <td>1</td>\n",
              "      <td>1</td>\n",
              "      <td>1</td>\n",
              "      <td>3372</td>\n",
              "      <td>1.967972</td>\n",
              "      <td>2.240510</td>\n",
              "      <td>0.115362</td>\n",
              "      <td>0.226572</td>\n",
              "      <td>0.122183</td>\n",
              "      <td>19.421594</td>\n",
              "      <td>9</td>\n",
              "      <td>0</td>\n",
              "      <td>7</td>\n",
              "      <td>0</td>\n",
              "      <td>155</td>\n",
              "    </tr>\n",
              "    <tr>\n",
              "      <th>6</th>\n",
              "      <td>590</td>\n",
              "      <td>538</td>\n",
              "      <td>815</td>\n",
              "      <td>415</td>\n",
              "      <td>5</td>\n",
              "      <td>1</td>\n",
              "      <td>1</td>\n",
              "      <td>1</td>\n",
              "      <td>3901</td>\n",
              "      <td>0.151243</td>\n",
              "      <td>0.137913</td>\n",
              "      <td>0.208921</td>\n",
              "      <td>0.106383</td>\n",
              "      <td>0.001282</td>\n",
              "      <td>0.660123</td>\n",
              "      <td>10</td>\n",
              "      <td>0</td>\n",
              "      <td>11</td>\n",
              "      <td>0</td>\n",
              "      <td>11</td>\n",
              "    </tr>\n",
              "  </tbody>\n",
              "</table>\n",
              "</div>\n",
              "      <button class=\"colab-df-convert\" onclick=\"convertToInteractive('df-ab25d250-7d8f-40a8-8d02-5b8d3aecd2cc')\"\n",
              "              title=\"Convert this dataframe to an interactive table.\"\n",
              "              style=\"display:none;\">\n",
              "        \n",
              "  <svg xmlns=\"http://www.w3.org/2000/svg\" height=\"24px\"viewBox=\"0 0 24 24\"\n",
              "       width=\"24px\">\n",
              "    <path d=\"M0 0h24v24H0V0z\" fill=\"none\"/>\n",
              "    <path d=\"M18.56 5.44l.94 2.06.94-2.06 2.06-.94-2.06-.94-.94-2.06-.94 2.06-2.06.94zm-11 1L8.5 8.5l.94-2.06 2.06-.94-2.06-.94L8.5 2.5l-.94 2.06-2.06.94zm10 10l.94 2.06.94-2.06 2.06-.94-2.06-.94-.94-2.06-.94 2.06-2.06.94z\"/><path d=\"M17.41 7.96l-1.37-1.37c-.4-.4-.92-.59-1.43-.59-.52 0-1.04.2-1.43.59L10.3 9.45l-7.72 7.72c-.78.78-.78 2.05 0 2.83L4 21.41c.39.39.9.59 1.41.59.51 0 1.02-.2 1.41-.59l7.78-7.78 2.81-2.81c.8-.78.8-2.07 0-2.86zM5.41 20L4 18.59l7.72-7.72 1.47 1.35L5.41 20z\"/>\n",
              "  </svg>\n",
              "      </button>\n",
              "      \n",
              "  <style>\n",
              "    .colab-df-container {\n",
              "      display:flex;\n",
              "      flex-wrap:wrap;\n",
              "      gap: 12px;\n",
              "    }\n",
              "\n",
              "    .colab-df-convert {\n",
              "      background-color: #E8F0FE;\n",
              "      border: none;\n",
              "      border-radius: 50%;\n",
              "      cursor: pointer;\n",
              "      display: none;\n",
              "      fill: #1967D2;\n",
              "      height: 32px;\n",
              "      padding: 0 0 0 0;\n",
              "      width: 32px;\n",
              "    }\n",
              "\n",
              "    .colab-df-convert:hover {\n",
              "      background-color: #E2EBFA;\n",
              "      box-shadow: 0px 1px 2px rgba(60, 64, 67, 0.3), 0px 1px 3px 1px rgba(60, 64, 67, 0.15);\n",
              "      fill: #174EA6;\n",
              "    }\n",
              "\n",
              "    [theme=dark] .colab-df-convert {\n",
              "      background-color: #3B4455;\n",
              "      fill: #D2E3FC;\n",
              "    }\n",
              "\n",
              "    [theme=dark] .colab-df-convert:hover {\n",
              "      background-color: #434B5C;\n",
              "      box-shadow: 0px 1px 3px 1px rgba(0, 0, 0, 0.15);\n",
              "      filter: drop-shadow(0px 1px 2px rgba(0, 0, 0, 0.3));\n",
              "      fill: #FFFFFF;\n",
              "    }\n",
              "  </style>\n",
              "\n",
              "      <script>\n",
              "        const buttonEl =\n",
              "          document.querySelector('#df-ab25d250-7d8f-40a8-8d02-5b8d3aecd2cc button.colab-df-convert');\n",
              "        buttonEl.style.display =\n",
              "          google.colab.kernel.accessAllowed ? 'block' : 'none';\n",
              "\n",
              "        async function convertToInteractive(key) {\n",
              "          const element = document.querySelector('#df-ab25d250-7d8f-40a8-8d02-5b8d3aecd2cc');\n",
              "          const dataTable =\n",
              "            await google.colab.kernel.invokeFunction('convertToInteractive',\n",
              "                                                     [key], {});\n",
              "          if (!dataTable) return;\n",
              "\n",
              "          const docLinkHtml = 'Like what you see? Visit the ' +\n",
              "            '<a target=\"_blank\" href=https://colab.research.google.com/notebooks/data_table.ipynb>data table notebook</a>'\n",
              "            + ' to learn more about interactive tables.';\n",
              "          element.innerHTML = '';\n",
              "          dataTable['output_type'] = 'display_data';\n",
              "          await google.colab.output.renderOutput(dataTable, element);\n",
              "          const docLink = document.createElement('div');\n",
              "          docLink.innerHTML = docLinkHtml;\n",
              "          element.appendChild(docLink);\n",
              "        }\n",
              "      </script>\n",
              "    </div>\n",
              "  </div>\n",
              "  "
            ]
          },
          "metadata": {},
          "execution_count": 4
        }
      ],
      "source": [
        "data_features_train.head(7)"
      ]
    },
    {
      "cell_type": "code",
      "execution_count": null,
      "metadata": {
        "colab": {
          "base_uri": "https://localhost:8080/",
          "height": 269
        },
        "id": "XGfyWlh21NP-",
        "outputId": "c8eb0000-a7a7-4733-e648-99df914c7eaf"
      },
      "outputs": [
        {
          "output_type": "execute_result",
          "data": {
            "text/plain": [
              "   is_bot\n",
              "0       0\n",
              "1       0\n",
              "2       0\n",
              "3       0\n",
              "4       0\n",
              "5       0\n",
              "6       0"
            ],
            "text/html": [
              "\n",
              "  <div id=\"df-76104d80-8d18-49cb-8a9c-2ab13d0d7324\">\n",
              "    <div class=\"colab-df-container\">\n",
              "      <div>\n",
              "<style scoped>\n",
              "    .dataframe tbody tr th:only-of-type {\n",
              "        vertical-align: middle;\n",
              "    }\n",
              "\n",
              "    .dataframe tbody tr th {\n",
              "        vertical-align: top;\n",
              "    }\n",
              "\n",
              "    .dataframe thead th {\n",
              "        text-align: right;\n",
              "    }\n",
              "</style>\n",
              "<table border=\"1\" class=\"dataframe\">\n",
              "  <thead>\n",
              "    <tr style=\"text-align: right;\">\n",
              "      <th></th>\n",
              "      <th>is_bot</th>\n",
              "    </tr>\n",
              "  </thead>\n",
              "  <tbody>\n",
              "    <tr>\n",
              "      <th>0</th>\n",
              "      <td>0</td>\n",
              "    </tr>\n",
              "    <tr>\n",
              "      <th>1</th>\n",
              "      <td>0</td>\n",
              "    </tr>\n",
              "    <tr>\n",
              "      <th>2</th>\n",
              "      <td>0</td>\n",
              "    </tr>\n",
              "    <tr>\n",
              "      <th>3</th>\n",
              "      <td>0</td>\n",
              "    </tr>\n",
              "    <tr>\n",
              "      <th>4</th>\n",
              "      <td>0</td>\n",
              "    </tr>\n",
              "    <tr>\n",
              "      <th>5</th>\n",
              "      <td>0</td>\n",
              "    </tr>\n",
              "    <tr>\n",
              "      <th>6</th>\n",
              "      <td>0</td>\n",
              "    </tr>\n",
              "  </tbody>\n",
              "</table>\n",
              "</div>\n",
              "      <button class=\"colab-df-convert\" onclick=\"convertToInteractive('df-76104d80-8d18-49cb-8a9c-2ab13d0d7324')\"\n",
              "              title=\"Convert this dataframe to an interactive table.\"\n",
              "              style=\"display:none;\">\n",
              "        \n",
              "  <svg xmlns=\"http://www.w3.org/2000/svg\" height=\"24px\"viewBox=\"0 0 24 24\"\n",
              "       width=\"24px\">\n",
              "    <path d=\"M0 0h24v24H0V0z\" fill=\"none\"/>\n",
              "    <path d=\"M18.56 5.44l.94 2.06.94-2.06 2.06-.94-2.06-.94-.94-2.06-.94 2.06-2.06.94zm-11 1L8.5 8.5l.94-2.06 2.06-.94-2.06-.94L8.5 2.5l-.94 2.06-2.06.94zm10 10l.94 2.06.94-2.06 2.06-.94-2.06-.94-.94-2.06-.94 2.06-2.06.94z\"/><path d=\"M17.41 7.96l-1.37-1.37c-.4-.4-.92-.59-1.43-.59-.52 0-1.04.2-1.43.59L10.3 9.45l-7.72 7.72c-.78.78-.78 2.05 0 2.83L4 21.41c.39.39.9.59 1.41.59.51 0 1.02-.2 1.41-.59l7.78-7.78 2.81-2.81c.8-.78.8-2.07 0-2.86zM5.41 20L4 18.59l7.72-7.72 1.47 1.35L5.41 20z\"/>\n",
              "  </svg>\n",
              "      </button>\n",
              "      \n",
              "  <style>\n",
              "    .colab-df-container {\n",
              "      display:flex;\n",
              "      flex-wrap:wrap;\n",
              "      gap: 12px;\n",
              "    }\n",
              "\n",
              "    .colab-df-convert {\n",
              "      background-color: #E8F0FE;\n",
              "      border: none;\n",
              "      border-radius: 50%;\n",
              "      cursor: pointer;\n",
              "      display: none;\n",
              "      fill: #1967D2;\n",
              "      height: 32px;\n",
              "      padding: 0 0 0 0;\n",
              "      width: 32px;\n",
              "    }\n",
              "\n",
              "    .colab-df-convert:hover {\n",
              "      background-color: #E2EBFA;\n",
              "      box-shadow: 0px 1px 2px rgba(60, 64, 67, 0.3), 0px 1px 3px 1px rgba(60, 64, 67, 0.15);\n",
              "      fill: #174EA6;\n",
              "    }\n",
              "\n",
              "    [theme=dark] .colab-df-convert {\n",
              "      background-color: #3B4455;\n",
              "      fill: #D2E3FC;\n",
              "    }\n",
              "\n",
              "    [theme=dark] .colab-df-convert:hover {\n",
              "      background-color: #434B5C;\n",
              "      box-shadow: 0px 1px 3px 1px rgba(0, 0, 0, 0.15);\n",
              "      filter: drop-shadow(0px 1px 2px rgba(0, 0, 0, 0.3));\n",
              "      fill: #FFFFFF;\n",
              "    }\n",
              "  </style>\n",
              "\n",
              "      <script>\n",
              "        const buttonEl =\n",
              "          document.querySelector('#df-76104d80-8d18-49cb-8a9c-2ab13d0d7324 button.colab-df-convert');\n",
              "        buttonEl.style.display =\n",
              "          google.colab.kernel.accessAllowed ? 'block' : 'none';\n",
              "\n",
              "        async function convertToInteractive(key) {\n",
              "          const element = document.querySelector('#df-76104d80-8d18-49cb-8a9c-2ab13d0d7324');\n",
              "          const dataTable =\n",
              "            await google.colab.kernel.invokeFunction('convertToInteractive',\n",
              "                                                     [key], {});\n",
              "          if (!dataTable) return;\n",
              "\n",
              "          const docLinkHtml = 'Like what you see? Visit the ' +\n",
              "            '<a target=\"_blank\" href=https://colab.research.google.com/notebooks/data_table.ipynb>data table notebook</a>'\n",
              "            + ' to learn more about interactive tables.';\n",
              "          element.innerHTML = '';\n",
              "          dataTable['output_type'] = 'display_data';\n",
              "          await google.colab.output.renderOutput(dataTable, element);\n",
              "          const docLink = document.createElement('div');\n",
              "          docLink.innerHTML = docLinkHtml;\n",
              "          element.appendChild(docLink);\n",
              "        }\n",
              "      </script>\n",
              "    </div>\n",
              "  </div>\n",
              "  "
            ]
          },
          "metadata": {},
          "execution_count": 5
        }
      ],
      "source": [
        "data_classes_train.head(7)"
      ]
    },
    {
      "cell_type": "markdown",
      "metadata": {
        "id": "TODKvBlp1NP-"
      },
      "source": [
        "### Проверка данных на пропущенные значения"
      ]
    },
    {
      "cell_type": "code",
      "execution_count": null,
      "metadata": {
        "colab": {
          "base_uri": "https://localhost:8080/"
        },
        "id": "e8-c4RPl1NP_",
        "outputId": "8f0a326b-0c7b-4898-d340-665da0229043"
      },
      "outputs": [
        {
          "output_type": "execute_result",
          "data": {
            "text/plain": [
              "statuses_count                     0\n",
              "followers_count                    0\n",
              "friends_count                      0\n",
              "favourites_count                   0\n",
              "listed_count                       0\n",
              "is_default_profile                 0\n",
              "is_profile_use_background_image    0\n",
              "is_verified                        0\n",
              "user_age                           0\n",
              "tweets_freq                        0\n",
              "followers_growth_rate              0\n",
              "friends_growth_rate                0\n",
              "favourites_growth_rate             0\n",
              "listed_growth_rate                 0\n",
              "followers_friends_ratio            0\n",
              "screen_name_length                 0\n",
              "num_digits_in_screen_name          0\n",
              "length_of_name                     0\n",
              "num_digits_in_name                 0\n",
              "description_length                 0\n",
              "dtype: int64"
            ]
          },
          "metadata": {},
          "execution_count": 6
        }
      ],
      "source": [
        "data_features_train.isna().sum()"
      ]
    },
    {
      "cell_type": "code",
      "execution_count": null,
      "metadata": {
        "colab": {
          "base_uri": "https://localhost:8080/"
        },
        "id": "H43XLNUz1NP_",
        "outputId": "b8eb8883-1c8e-42f4-c360-779c9574e404"
      },
      "outputs": [
        {
          "output_type": "execute_result",
          "data": {
            "text/plain": [
              "is_bot    0\n",
              "dtype: int64"
            ]
          },
          "metadata": {},
          "execution_count": 7
        }
      ],
      "source": [
        "data_classes_train.isna().sum()"
      ]
    },
    {
      "cell_type": "markdown",
      "metadata": {
        "id": "6P1GXG7Z1NP_"
      },
      "source": [
        "### Разделение данных"
      ]
    },
    {
      "cell_type": "code",
      "execution_count": null,
      "metadata": {
        "id": "Az-JPQl81NQA"
      },
      "outputs": [],
      "source": [
        "X_train, X_test, y_train, y_test = train_test_split(data_features_train, data_classes_train, test_size=0.4, random_state=1, shuffle=True)"
      ]
    },
    {
      "cell_type": "markdown",
      "metadata": {
        "id": "sz90Fyjc1NQA"
      },
      "source": [
        "## Задание 1. Базовый уровень"
      ]
    },
    {
      "cell_type": "markdown",
      "source": [
        "Обучить модель без каких-либо дополнительных условий, которая должна наилучшим образом отработать на тестовой выборке преподавателя с точки зрения F-меры"
      ],
      "metadata": {
        "id": "Qs6LyTPtJntG"
      }
    },
    {
      "cell_type": "markdown",
      "metadata": {
        "id": "tTgZEC0S1NQB"
      },
      "source": [
        "### Работа с моделями"
      ]
    },
    {
      "cell_type": "markdown",
      "metadata": {
        "id": "_RZTQLVf1NQB"
      },
      "source": [
        "В качестве эксперимента рассмотрим 3 основных и самых распространненных классификатора из пакета **sklearn**:\n",
        "* ***Метод k-ближайших соседей (K-Nearest Neighbors);***\n",
        "* ***Случайный лес (Random Forests);***\n",
        "* ***Наивный байесовский метод (Naive Bayes);***"
      ]
    },
    {
      "cell_type": "markdown",
      "metadata": {
        "id": "TCFJhm_I1NQC"
      },
      "source": [
        "#### Построение моделей"
      ]
    },
    {
      "cell_type": "code",
      "execution_count": null,
      "metadata": {
        "id": "-oNjF7Y21NQD"
      },
      "outputs": [],
      "source": [
        "model_knn = KNeighborsClassifier()\n",
        "model_forest = RandomForestClassifier()\n",
        "model_bayes = GaussianNB()"
      ]
    },
    {
      "cell_type": "markdown",
      "metadata": {
        "id": "EU39H-fH1NQD"
      },
      "source": [
        "#### Обучение моделей"
      ]
    },
    {
      "cell_type": "code",
      "execution_count": null,
      "metadata": {
        "colab": {
          "base_uri": "https://localhost:8080/"
        },
        "id": "GHiMPMZD1NQE",
        "outputId": "d493be2b-20d9-41c2-f1e2-e2a27c440a0e"
      },
      "outputs": [
        {
          "output_type": "execute_result",
          "data": {
            "text/plain": [
              "GaussianNB()"
            ]
          },
          "metadata": {},
          "execution_count": 10
        }
      ],
      "source": [
        "model_knn.fit(X_train, y_train)\n",
        "model_forest.fit(X_train, y_train)\n",
        "model_bayes.fit(X_train, y_train)"
      ]
    },
    {
      "cell_type": "markdown",
      "metadata": {
        "id": "P_EQ6M_M1NQG"
      },
      "source": [
        "#### Предсказение модели"
      ]
    },
    {
      "cell_type": "code",
      "execution_count": null,
      "metadata": {
        "id": "MMlndlMS1NQH"
      },
      "outputs": [],
      "source": [
        "predict_knn = model_knn.predict(X_test)\n",
        "predict_forest = model_forest.predict(X_test)\n",
        "predict_bayes = model_bayes.predict(X_test)"
      ]
    },
    {
      "cell_type": "markdown",
      "metadata": {
        "id": "N6UhS6jn1NQH"
      },
      "source": [
        "#### Просмотр результатов"
      ]
    },
    {
      "cell_type": "markdown",
      "metadata": {
        "id": "mTjjd02t1NQH"
      },
      "source": [
        "##### KNeighborsClassifier"
      ]
    },
    {
      "cell_type": "code",
      "execution_count": null,
      "metadata": {
        "colab": {
          "base_uri": "https://localhost:8080/",
          "height": 487
        },
        "id": "7Rso9dJd1NQI",
        "outputId": "648b531a-9f2f-40e6-cd0f-588dbb3319de"
      },
      "outputs": [
        {
          "output_type": "stream",
          "name": "stdout",
          "text": [
            "Metrics for KNeighborsClassifier\n",
            "Precision without hypertuning for KNeighborsClassifier:  0.9770642201834863\n",
            "F1-score without hypertuning for KNeighborsClassifier:  0.9551569506726457\n",
            "              precision    recall  f1-score   support\n",
            "\n",
            "           0       0.98      0.99      0.99       732\n",
            "           1       0.98      0.93      0.96       228\n",
            "\n",
            "    accuracy                           0.98       960\n",
            "   macro avg       0.98      0.96      0.97       960\n",
            "weighted avg       0.98      0.98      0.98       960\n",
            "\n"
          ]
        },
        {
          "output_type": "display_data",
          "data": {
            "text/plain": [
              "<Figure size 432x288 with 2 Axes>"
            ],
            "image/png": "[encoded data removed]"
          },
          "metadata": {
            "needs_background": "light"
          }
        }
      ],
      "source": [
        "print('Metrics for KNeighborsClassifier')\n",
        "print(\"Precision without hypertuning for KNeighborsClassifier: \", precision_score(y_test, predict_knn))\n",
        "print(\"F1-score without hypertuning for KNeighborsClassifier: \", f1_score(y_test, predict_knn))\n",
        "plot_confusion_matrix(model_knn, X_test, y_test, normalize='true', cmap='magma')\n",
        "print(classification_report(y_test, predict_knn))"
      ]
    },
    {
      "cell_type": "code",
      "source": [
        "with open('/content/drive/MyDrive/models/fail_model_knn.pkl', 'wb') as f:\n",
        "    pickle.dump(model_knn, f)"
      ],
      "metadata": {
        "id": "9k7PbhpOVaSf"
      },
      "execution_count": null,
      "outputs": []
    },
    {
      "cell_type": "markdown",
      "metadata": {
        "id": "HXjScwjJ1NQI"
      },
      "source": [
        "##### RandomForestClassifier"
      ]
    },
    {
      "cell_type": "code",
      "execution_count": null,
      "metadata": {
        "colab": {
          "base_uri": "https://localhost:8080/",
          "height": 487
        },
        "id": "6Sw76RYq1NQI",
        "outputId": "091d862e-594f-450b-ae62-ec30a8880cf8"
      },
      "outputs": [
        {
          "output_type": "stream",
          "name": "stdout",
          "text": [
            "Metrics for RandomForestClassifier\n",
            "Precision without hypertuning for RandomForestClassifier:  0.9911504424778761\n",
            "F1-score without hypertuning for RandomForestClassifier:  0.9867841409691629\n",
            "              precision    recall  f1-score   support\n",
            "\n",
            "           0       0.99      1.00      1.00       732\n",
            "           1       0.99      0.98      0.99       228\n",
            "\n",
            "    accuracy                           0.99       960\n",
            "   macro avg       0.99      0.99      0.99       960\n",
            "weighted avg       0.99      0.99      0.99       960\n",
            "\n"
          ]
        },
        {
          "output_type": "display_data",
          "data": {
            "text/plain": [
              "<Figure size 432x288 with 2 Axes>"
            ],
            "image/png": "[encoded data removed]"
          },
          "metadata": {
            "needs_background": "light"
          }
        }
      ],
      "source": [
        "print('Metrics for RandomForestClassifier')\n",
        "print(\"Precision without hypertuning for RandomForestClassifier: \", precision_score(y_test, predict_forest))\n",
        "print(\"F1-score without hypertuning for RandomForestClassifier: \", f1_score(y_test, predict_forest))\n",
        "plot_confusion_matrix(model_forest, X_test, y_test, normalize='true', cmap='magma')\n",
        "print(classification_report(y_test, predict_forest))"
      ]
    },
    {
      "cell_type": "code",
      "source": [
        "with open('/content/drive/MyDrive/models/succ_model_forest.pkl', 'wb') as f:\n",
        "    pickle.dump(model_forest, f)"
      ],
      "metadata": {
        "id": "GQWRSUHpWEoy"
      },
      "execution_count": null,
      "outputs": []
    },
    {
      "cell_type": "markdown",
      "metadata": {
        "id": "GskYjO1Z1NQJ"
      },
      "source": [
        "##### GaussianNB"
      ]
    },
    {
      "cell_type": "code",
      "execution_count": null,
      "metadata": {
        "colab": {
          "base_uri": "https://localhost:8080/",
          "height": 487
        },
        "id": "0gJKi23B1NQJ",
        "outputId": "3c9a31b2-0e36-4ded-9fc4-4cb88f7e84bf"
      },
      "outputs": [
        {
          "output_type": "stream",
          "name": "stdout",
          "text": [
            "Metrics for GaussianNB\n",
            "Precision without hypertuning for GaussianNB:  0.6904024767801857\n",
            "F1-score without hypertuning for GaussianNB:  0.809437386569873\n",
            "              precision    recall  f1-score   support\n",
            "\n",
            "           0       0.99      0.86      0.92       732\n",
            "           1       0.69      0.98      0.81       228\n",
            "\n",
            "    accuracy                           0.89       960\n",
            "   macro avg       0.84      0.92      0.87       960\n",
            "weighted avg       0.92      0.89      0.90       960\n",
            "\n"
          ]
        },
        {
          "output_type": "display_data",
          "data": {
            "text/plain": [
              "<Figure size 432x288 with 2 Axes>"
            ],
            "image/png": "[encoded data removed]"
          },
          "metadata": {
            "needs_background": "light"
          }
        }
      ],
      "source": [
        "print('Metrics for GaussianNB')\n",
        "print(\"Precision without hypertuning for GaussianNB: \", precision_score(y_test, predict_bayes))\n",
        "print(\"F1-score without hypertuning for GaussianNB: \", f1_score(y_test, predict_bayes))\n",
        "plot_confusion_matrix(model_bayes, X_test, y_test, normalize='true', cmap='magma')\n",
        "print(classification_report(y_test, predict_bayes))"
      ]
    },
    {
      "cell_type": "code",
      "source": [
        "with open('/content/drive/MyDrive/models/fail_model_bayes.pkl', 'wb') as f:\n",
        "    pickle.dump(model_bayes, f)"
      ],
      "metadata": {
        "id": "W3hf-PM5WK95"
      },
      "execution_count": null,
      "outputs": []
    },
    {
      "cell_type": "markdown",
      "metadata": {
        "id": "QzucZ9q01NQK"
      },
      "source": [
        "### Небольшие итоги по работе с моделями "
      ]
    },
    {
      "cell_type": "markdown",
      "metadata": {
        "id": "SH3nVNoZ1NQK"
      },
      "source": [
        "Все модели показывают достаточно хорошую точность предсказаний, однако есть ньюансы. <br/>\n",
        "По условиям лабораторной работы модели должны пропускать ***не более 3% ботов***, с этим условием справились не все модели:\n",
        "* KNeighborsClassifier пропустил почти 6,6% на данном параметре, при значении f-меры = 0.96\n",
        "* RandomForestClassifier дает осечку в 1,8% при значении f-меры = 0.98\n",
        "* GaussianNB так же пропускает 2,2% ботов при значении f-меры = 0.81\n"
      ]
    },
    {
      "cell_type": "markdown",
      "metadata": {
        "id": "DTTOmtPa1NQL"
      },
      "source": [
        "### Результаты"
      ]
    },
    {
      "cell_type": "markdown",
      "metadata": {
        "id": "eAfoVpnX1NQL"
      },
      "source": [
        "По результату выполнения задания №1 лучшим классификатором является ***RandomForestClassifier***."
      ]
    },
    {
      "cell_type": "markdown",
      "source": [
        "## Задание 1,5. Определение 10 признаков."
      ],
      "metadata": {
        "id": "1524SqiKCtD5"
      }
    },
    {
      "cell_type": "markdown",
      "source": [
        "### Определим топ 10 признаков"
      ],
      "metadata": {
        "id": "DHnVU1QuCy7D"
      }
    },
    {
      "cell_type": "code",
      "source": [
        "feature_importances = pd.DataFrame(data=model_forest.feature_importances_, index=data_features_train.columns, columns=['features'])\n",
        "feature_importances.sort_values(by='features', ascending=False, inplace=True)\n",
        "feature_importances = feature_importances.head(10)\n",
        "feature_importances.plot(kind='barh', colormap='autumn')"
      ],
      "metadata": {
        "colab": {
          "base_uri": "https://localhost:8080/",
          "height": 282
        },
        "id": "KO9A_96NC-qE",
        "outputId": "422a7936-ccf4-46a2-8fcb-9ed4f0cd965c"
      },
      "execution_count": null,
      "outputs": [
        {
          "output_type": "execute_result",
          "data": {
            "text/plain": [
              "<matplotlib.axes._subplots.AxesSubplot at 0x7f5c78ede890>"
            ]
          },
          "metadata": {},
          "execution_count": 18
        },
        {
          "output_type": "display_data",
          "data": {
            "text/plain": [
              "<Figure size 432x288 with 1 Axes>"
            ],
            "image/png": "[encoded data removed]"
          },
          "metadata": {
            "needs_background": "light"
          }
        }
      ]
    },
    {
      "cell_type": "markdown",
      "source": [
        "### Разделение данных"
      ],
      "metadata": {
        "id": "BKEI_i_eI_72"
      }
    },
    {
      "cell_type": "code",
      "source": [
        "new_data_features_train = data_features_train[feature_importances.index[:10]]\n",
        "X_train_short, X_test_short, y_train_short, y_test_short = train_test_split(new_data_features_train, data_classes_train, test_size=0.4, random_state=0)"
      ],
      "metadata": {
        "id": "4JpvQf_fEGpN"
      },
      "execution_count": null,
      "outputs": []
    },
    {
      "cell_type": "markdown",
      "metadata": {
        "id": "6uHRxoDn1NQL"
      },
      "source": [
        "## Задание 2. Расширенный уровень"
      ]
    },
    {
      "cell_type": "markdown",
      "source": [
        "### 2.1 Максимально логичным образом обучить качественную модель, использующую для работы только 10 признаков из всего исходного множества.<br/>\n"
      ],
      "metadata": {
        "id": "_hD9c72XJ8Fe"
      }
    },
    {
      "cell_type": "code",
      "source": [
        "model_forest_short = RandomForestClassifier()\n",
        "model_forest_short.fit(X_train_short, y_train_short)\n",
        "predict_forest_short = model_forest_short.predict(X_test_short)"
      ],
      "metadata": {
        "id": "K55XVs1IK-_2"
      },
      "execution_count": null,
      "outputs": []
    },
    {
      "cell_type": "code",
      "source": [
        "print('Metrics for RandomForestClassifier')\n",
        "print(\"Precision without hypertuning for RandomForestClassifier: \", precision_score(y_test_short, predict_forest_short))\n",
        "print(\"F1-score without hypertuning for RandomForestClassifier: \", f1_score(y_test_short, predict_forest_short))\n",
        "plot_confusion_matrix(model_forest_short, X_test_short, y_test_short, normalize='true', cmap='magma')\n",
        "print(classification_report(y_test_short, predict_forest_short))"
      ],
      "metadata": {
        "colab": {
          "base_uri": "https://localhost:8080/",
          "height": 487
        },
        "id": "kx_0YaXLQsH3",
        "outputId": "746dcee8-6ba2-41ff-c4f2-5cffb2f8a0a0"
      },
      "execution_count": null,
      "outputs": [
        {
          "output_type": "stream",
          "name": "stdout",
          "text": [
            "Metrics for RandomForestClassifier\n",
            "Precision without hypertuning for RandomForestClassifier:  0.9915966386554622\n",
            "F1-score without hypertuning for RandomForestClassifier:  0.9874476987447698\n",
            "              precision    recall  f1-score   support\n",
            "\n",
            "           0       0.99      1.00      1.00       720\n",
            "           1       0.99      0.98      0.99       240\n",
            "\n",
            "    accuracy                           0.99       960\n",
            "   macro avg       0.99      0.99      0.99       960\n",
            "weighted avg       0.99      0.99      0.99       960\n",
            "\n"
          ]
        },
        {
          "output_type": "display_data",
          "data": {
            "text/plain": [
              "<Figure size 432x288 with 2 Axes>"
            ],
            "image/png": "[encoded data removed]"
          },
          "metadata": {
            "needs_background": "light"
          }
        }
      ]
    },
    {
      "cell_type": "code",
      "source": [
        "with open('/content/drive/MyDrive/models/succ_model_forest_short.pkl', 'wb') as f:\n",
        "    pickle.dump(model_forest_short, f)"
      ],
      "metadata": {
        "id": "TT5SqbjoWXo5"
      },
      "execution_count": null,
      "outputs": []
    },
    {
      "cell_type": "markdown",
      "source": [
        "### 2.2 Обучить модель, обеспечивающую вероятность пропуска бота на уровне не выше 0,03, и имеющую насколько возможно низкую вероятность ложного обнаружения."
      ],
      "metadata": {
        "id": "Ti-bTeymL1-O"
      }
    },
    {
      "cell_type": "markdown",
      "source": [
        "#### Подбор параметров при помощи случайного поиска"
      ],
      "metadata": {
        "id": "spcN5jjIMMU-"
      }
    },
    {
      "cell_type": "code",
      "execution_count": null,
      "metadata": {
        "id": "Z7_IDTgb1NQO"
      },
      "outputs": [],
      "source": [
        "parameters_random = {    \n",
        " 'max_depth': [i for i in range(2, 40)], 'n_estimators': [i for i in range(100, 500, 50)], 'min_samples_split':  np.linspace(0.01, 0.1, 10, endpoint=True),\n",
        " 'min_samples_leaf':  np.linspace(0.01, 0.1, 10, endpoint=True), 'criterion': ['gini', 'entropy', 'log_loss'], 'max_features': ['log2', 'sqrt', 'auto'], 'random_state': [42]\n",
        "}"
      ]
    },
    {
      "cell_type": "code",
      "source": [
        "random_search_cv = RandomizedSearchCV(RandomForestClassifier(), parameters_random, scoring=['precision'], n_jobs=-1, cv=StratifiedKFold(random_state=42, shuffle=True), random_state=42, refit='precision')\n",
        "random_search_cv = random_search_cv.fit(X_train_short, y_train_short)\n",
        "print('Best parameters: ', random_search_cv.best_params_)\n",
        "predictions_random = random_search_cv.predict(X_test_short)"
      ],
      "metadata": {
        "colab": {
          "base_uri": "https://localhost:8080/"
        },
        "id": "CBkjBvzz61ca",
        "outputId": "7b763849-8193-4193-abd3-3a820e519c1c"
      },
      "execution_count": null,
      "outputs": [
        {
          "output_type": "stream",
          "name": "stdout",
          "text": [
            "Best parameters:  {'random_state': 42, 'n_estimators': 150, 'min_samples_split': 0.08, 'min_samples_leaf': 0.07, 'max_features': 'log2', 'max_depth': 21, 'criterion': 'entropy'}\n"
          ]
        }
      ]
    },
    {
      "cell_type": "code",
      "source": [
        "print('Metrics for RandomForestClassifier')\n",
        "print(\"Precision with hypertuning for RandomForestClassifier: \", precision_score(y_test_short, predictions_random))\n",
        "print(\"F1-score with hypertuning for RandomForestClassifier: \", f1_score(y_test_short, predictions_random))\n",
        "plot_confusion_matrix(random_search_cv, X_test_short, y_test_short, normalize='true', cmap='magma')\n",
        "print(classification_report(y_test_short, predictions_random))"
      ],
      "metadata": {
        "colab": {
          "base_uri": "https://localhost:8080/",
          "height": 487
        },
        "id": "cQ5GX7yjHJCt",
        "outputId": "ab14ab6e-e781-4e17-cee2-0ee35e1add39"
      },
      "execution_count": null,
      "outputs": [
        {
          "output_type": "stream",
          "name": "stdout",
          "text": [
            "Metrics for RandomForestClassifier\n",
            "Precision with hypertuning for RandomForestClassifier:  0.9914893617021276\n",
            "F1-score with hypertuning for RandomForestClassifier:  0.9810526315789473\n",
            "              precision    recall  f1-score   support\n",
            "\n",
            "           0       0.99      1.00      0.99       720\n",
            "           1       0.99      0.97      0.98       240\n",
            "\n",
            "    accuracy                           0.99       960\n",
            "   macro avg       0.99      0.98      0.99       960\n",
            "weighted avg       0.99      0.99      0.99       960\n",
            "\n"
          ]
        },
        {
          "output_type": "display_data",
          "data": {
            "text/plain": [
              "<Figure size 432x288 with 2 Axes>"
            ],
            "image/png": "[encoded data removed]"
          },
          "metadata": {
            "needs_background": "light"
          }
        }
      ]
    },
    {
      "cell_type": "code",
      "source": [
        "with open('/content/drive/MyDrive/models/succ_model_forest_short_with_rand.pkl', 'wb') as f:\n",
        "    pickle.dump(random_search_cv, f)"
      ],
      "metadata": {
        "id": "7Xbg7_fNYZJf"
      },
      "execution_count": null,
      "outputs": []
    },
    {
      "cell_type": "markdown",
      "source": [
        "#### Подбор параметров при помощи Байесовской оптимизации"
      ],
      "metadata": {
        "id": "-SQLFlsfMCwO"
      }
    },
    {
      "cell_type": "code",
      "execution_count": null,
      "metadata": {
        "id": "55Ekby4r1NQM"
      },
      "outputs": [],
      "source": [
        "parameters_for_bayes = { 'criterion': ['gini', 'entropy'], 'max_depth': [i for i in range(2, 50)], 'max_features': ['log2', 'sqrt'], 'random_state': [42] }"
      ]
    },
    {
      "cell_type": "code",
      "execution_count": null,
      "metadata": {
        "colab": {
          "base_uri": "https://localhost:8080/"
        },
        "id": "nJg33KqF1NQN",
        "outputId": "9a26933b-88cb-4c94-853e-558c270fa676"
      },
      "outputs": [
        {
          "output_type": "stream",
          "name": "stdout",
          "text": [
            "Best parameters:  OrderedDict([('criterion', 'entropy'), ('max_depth', 16), ('max_features', 'sqrt'), ('random_state', 42)])\n"
          ]
        }
      ],
      "source": [
        "b_search = BayesSearchCV(estimator=RandomForestClassifier(), scoring='precision', search_spaces=parameters_for_bayes, cv=3, n_iter = 110, n_jobs = -1)\n",
        "b_search.fit(X_train_short, y_train_short)\n",
        "print('Best parameters: ', b_search.best_params_)\n",
        "predictions_bayes = b_search.predict(X_test_short)"
      ]
    },
    {
      "cell_type": "code",
      "source": [
        "print('Metrics for RandomForestClassifier')\n",
        "print(\"Precision with hypertuning for RandomForestClassifier: \", precision_score(y_test_short, predictions_bayes))\n",
        "print(\"F1-score with hypertuning for RandomForestClassifier: \", f1_score(y_test_short, predictions_bayes))\n",
        "plot_confusion_matrix(b_search, X_test_short, y_test_short, normalize='true', cmap='magma')\n",
        "print(classification_report(y_test_short, predictions_bayes))"
      ],
      "metadata": {
        "colab": {
          "base_uri": "https://localhost:8080/",
          "height": 487
        },
        "id": "MQS88KzxBvvE",
        "outputId": "da13b8ce-5059-47ed-a32f-a594dac2d2fe"
      },
      "execution_count": null,
      "outputs": [
        {
          "output_type": "stream",
          "name": "stdout",
          "text": [
            "Metrics for RandomForestClassifier\n",
            "Precision with hypertuning for RandomForestClassifier:  0.9916317991631799\n",
            "F1-score with hypertuning for RandomForestClassifier:  0.989561586638831\n",
            "              precision    recall  f1-score   support\n",
            "\n",
            "           0       1.00      1.00      1.00       720\n",
            "           1       0.99      0.99      0.99       240\n",
            "\n",
            "    accuracy                           0.99       960\n",
            "   macro avg       0.99      0.99      0.99       960\n",
            "weighted avg       0.99      0.99      0.99       960\n",
            "\n"
          ]
        },
        {
          "output_type": "display_data",
          "data": {
            "text/plain": [
              "<Figure size 432x288 with 2 Axes>"
            ],
            "image/png": "[encoded data removed]"
          },
          "metadata": {
            "needs_background": "light"
          }
        }
      ]
    },
    {
      "cell_type": "code",
      "source": [
        "with open('/content/drive/MyDrive/models/succ_model_forest_short_with_bayes.pkl', 'wb') as f:\n",
        "    pickle.dump(b_search, f)"
      ],
      "metadata": {
        "id": "hYlsgnRpYZqS"
      },
      "execution_count": null,
      "outputs": []
    },
    {
      "cell_type": "markdown",
      "source": [
        "## Итоги"
      ],
      "metadata": {
        "id": "SOZNywJ_MW9O"
      }
    },
    {
      "cell_type": "markdown",
      "source": [
        "Таким образом на данной конфигурации, лучший результат показывает RandomForestClassifier c подбором гиперпараметров при помощи Байесовской оптимизации. Поддреживая меру на уровне 0,99, классификатор определил бота как человека, чуть более чем в 1 проценте случаев, что является достойным результатом."
      ],
      "metadata": {
        "id": "1fvTUSjSMW21"
      }
    }
  ],
  "metadata": {
    "kernelspec": {
      "display_name": "Python 3",
      "language": "python",
      "name": "python3"
    },
    "language_info": {
      "codemirror_mode": {
        "name": "ipython",
        "version": 3
      },
      "file_extension": ".py",
      "mimetype": "text/x-python",
      "name": "python",
      "nbconvert_exporter": "python",
      "pygments_lexer": "ipython3",
      "version": "3.11.0"
    },
    "orig_nbformat": 4,
    "vscode": {
      "interpreter": {
        "hash": "5238573367df39f7286bb46f9ff5f08f63a01a80960060ce41e3c79b190280fa"
      }
    },
    "colab": {
      "provenance": [],
      "toc_visible": true
    },
    "gpuClass": "standard"
  },
  "nbformat": 4,
  "nbformat_minor": 0
}